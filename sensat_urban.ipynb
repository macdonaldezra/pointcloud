{
 "cells": [
  {
   "cell_type": "code",
   "execution_count": 1,
   "metadata": {},
   "outputs": [
    {
     "name": "stdout",
     "output_type": "stream",
     "text": [
      "Jupyter environment detected. Enabling Open3D WebVisualizer.\n",
      "[Open3D INFO] WebRTC GUI backend enabled.\n",
      "[Open3D INFO] WebRTCWindowSystem: HTTP handshake server disabled.\n"
     ]
    }
   ],
   "source": [
    "from pathlib import Path\n",
    "import pickle\n",
    "\n",
    "import open3d as o3\n",
    "import numpy as np\n",
    "\n",
    "from pointcloud.config import DATA_PATH\n",
    "from pointcloud.utils.io import read_ply_file\n",
    "from pointcloud.processors.sensat.plot import draw_pointcloud, draw_segmented_pointcloud\n",
    "\n",
    "LABELS = {\n",
    "    0: \"Ground\",\n",
    "    1: \"High Vegetation\",\n",
    "    2: \"Buildings\",\n",
    "    3: \"Walls\",\n",
    "    4: \"Bridge\",\n",
    "    5: \"Parking\",\n",
    "    6: \"Rail\",\n",
    "    7: \"traffic Roads\",\n",
    "    8: \"Street Furniture\",\n",
    "    9: \"Cars\",\n",
    "    10: \"Footpath\",\n",
    "    11: \"Bikes\",\n",
    "    12: \"Water\",\n",
    "}\n",
    "\n",
    "pointcloud_path = Path(DATA_PATH / \"sensat_urban/grid_0.200/birmingham_block_11.ply\")\n",
    "kd_tree_path = Path(\n",
    "    DATA_PATH / \"sensat_urban/grid_0.200/birmingham_block_11_KDTree.pkl\"\n",
    ")\n",
    "proj_path = Path(DATA_PATH / \"sensat_urban/grid_0.200/birmingham_block_11_proj.pkl\")\n",
    "\n",
    "assert pointcloud_path.exists(), \"PointCloud file not found.\"\n",
    "assert kd_tree_path.exists(), \"KDTree file not found.\"\n",
    "assert proj_path.exists(), \"Proj file not found.\""
   ]
  },
  {
   "cell_type": "code",
   "execution_count": 11,
   "metadata": {},
   "outputs": [],
   "source": [
    "data = read_ply_file(pointcloud_path)\n",
    "point_colors = np.vstack((data[\"red\"], data[\"green\"], data[\"blue\"])).T\n",
    "point_labels = data[\"class\"]\n",
    "points = np.vstack((data[\"x\"], data[\"y\"], data[\"z\"])).T"
   ]
  },
  {
   "cell_type": "code",
   "execution_count": 2,
   "metadata": {},
   "outputs": [],
   "source": [
    "with open(proj_path, \"rb\") as kd_tree_file:\n",
    "    proj = pickle.load(kd_tree_file)"
   ]
  },
  {
   "cell_type": "code",
   "execution_count": 4,
   "metadata": {},
   "outputs": [],
   "source": [
    "LABEL_COLORS = [\n",
    "    [85, 107, 47],  # ground -> OliveDrab\n",
    "    [0, 255, 0],  # tree -> Green\n",
    "    [255, 165, 0],  # building -> orange\n",
    "    [41, 49, 101],  # Walls ->  darkblue\n",
    "    [0, 0, 0],  # Bridge -> black\n",
    "    [0, 0, 255],  # parking -> blue\n",
    "    [255, 0, 255],  # rail -> Magenta\n",
    "    [200, 200, 200],  # traffic Roads ->  grey\n",
    "    [89, 47, 95],  # Street Furniture  ->  DimGray\n",
    "    [255, 0, 0],  # cars -> red\n",
    "    [255, 255, 0],  # Footpath  ->  deeppink\n",
    "    [0, 255, 255],  # bikes -> cyan\n",
    "    [0, 191, 255],  # water ->  skyblue\n",
    "]"
   ]
  },
  {
   "cell_type": "code",
   "execution_count": 10,
   "metadata": {},
   "outputs": [],
   "source": [
    "pointcloud_path = Path(DATA_PATH / \"sensat_urban/train/cambridge_block_32.ply\")"
   ]
  },
  {
   "cell_type": "code",
   "execution_count": 15,
   "metadata": {},
   "outputs": [],
   "source": [
    "pointcloud = o3.geometry.PointCloud()\n",
    "pointcloud.points = o3.utility.Vector3dVector(points)\n",
    "pointcloud.colors = o3.utility.Vector3dVector(point_colors / 255.0)\n",
    "o3.geometry.PointCloud.estimate_normals(pointcloud)\n",
    "\n",
    "voxel_grid = o3.geometry.VoxelGrid.create_from_point_cloud(pointcloud, voxel_size=0.1)\n",
    "o3.visualization.draw_geometries([voxel_grid])"
   ]
  }
 ],
 "metadata": {
  "kernelspec": {
   "display_name": "Python 3.9.13 64-bit ('pointcloud-dl-env')",
   "language": "python",
   "name": "python3"
  },
  "language_info": {
   "codemirror_mode": {
    "name": "ipython",
    "version": 3
   },
   "file_extension": ".py",
   "mimetype": "text/x-python",
   "name": "python",
   "nbconvert_exporter": "python",
   "pygments_lexer": "ipython3",
   "version": "3.9.13"
  },
  "orig_nbformat": 4,
  "vscode": {
   "interpreter": {
    "hash": "32fd5f39ba36bdb2b09eb0e971237c03ead3a6e53488ffa8a8a3671ebc5bcc03"
   }
  }
 },
 "nbformat": 4,
 "nbformat_minor": 2
}
