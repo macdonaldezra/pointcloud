{
 "cells": [
  {
   "cell_type": "code",
   "execution_count": 1,
   "metadata": {},
   "outputs": [
    {
     "name": "stdout",
     "output_type": "stream",
     "text": [
      "Jupyter environment detected. Enabling Open3D WebVisualizer.\n",
      "[Open3D INFO] WebRTC GUI backend enabled.\n",
      "[Open3D INFO] WebRTCWindowSystem: HTTP handshake server disabled.\n"
     ]
    }
   ],
   "source": [
    "from pathlib import Path\n",
    "import pickle\n",
    "import typing as T\n",
    "\n",
    "import open3d as o3\n",
    "import numpy as np\n",
    "from sklearn.neighbors import KDTree\n",
    "from typing import *\n",
    "\n",
    "from pointcloud.config import DATA_PATH\n",
    "from pointcloud.utils.io import read_ply_file\n",
    "from pointcloud.processors.sensat.plot import draw_pointcloud, draw_segmented_pointcloud\n",
    "\n",
    "LABELS = {\n",
    "    0: \"Ground\",\n",
    "    1: \"High Vegetation\",\n",
    "    2: \"Buildings\",\n",
    "    3: \"Walls\",\n",
    "    4: \"Bridge\",\n",
    "    5: \"Parking\",\n",
    "    6: \"Rail\",\n",
    "    7: \"traffic Roads\",\n",
    "    8: \"Street Furniture\",\n",
    "    9: \"Cars\",\n",
    "    10: \"Footpath\",\n",
    "    11: \"Bikes\",\n",
    "    12: \"Water\",\n",
    "}\n",
    "\n",
    "pointcloud_path = Path(\n",
    "    DATA_PATH / \"sensat_urban/grid_0.2/birmingham_block_11_sample.ply\"\n",
    ")\n",
    "\n",
    "assert pointcloud_path.exists(), \"PointCloud file not found.\""
   ]
  },
  {
   "cell_type": "code",
   "execution_count": 2,
   "metadata": {},
   "outputs": [],
   "source": [
    "points, colors, labels = read_ply_file(pointcloud_path)"
   ]
  },
  {
   "cell_type": "code",
   "execution_count": null,
   "metadata": {},
   "outputs": [],
   "source": [
    "LABEL_COLORS = [\n",
    "    [85, 107, 47],  # ground -> OliveDrab\n",
    "    [0, 255, 0],  # tree -> Green\n",
    "    [255, 165, 0],  # building -> orange\n",
    "    [41, 49, 101],  # Walls ->  darkblue\n",
    "    [0, 0, 0],  # Bridge -> black\n",
    "    [0, 0, 255],  # parking -> blue\n",
    "    [255, 0, 255],  # rail -> Magenta\n",
    "    [200, 200, 200],  # traffic Roads ->  grey\n",
    "    [89, 47, 95],  # Street Furniture  ->  DimGray\n",
    "    [255, 0, 0],  # cars -> red\n",
    "    [255, 255, 0],  # Footpath  ->  deeppink\n",
    "    [0, 255, 255],  # bikes -> cyan\n",
    "    [0, 191, 255],  # water ->  skyblue\n",
    "]"
   ]
  },
  {
   "cell_type": "code",
   "execution_count": 17,
   "metadata": {},
   "outputs": [
    {
     "data": {
      "text/plain": [
       "array([ 0,  1,  2,  3,  5,  7,  8,  9, 10], dtype=uint8)"
      ]
     },
     "execution_count": 17,
     "metadata": {},
     "output_type": "execute_result"
    }
   ],
   "source": [
    "np.set_printoptions(formatter={\"float_kind\": \"{:.2f}\".format})"
   ]
  },
  {
   "cell_type": "code",
   "execution_count": 37,
   "metadata": {},
   "outputs": [
    {
     "name": "stdout",
     "output_type": "stream",
     "text": [
      "Total value for counts: [75944442.00 42631398.00 69673505.00 2014879.00 220709.00 3762223.00\n",
      " 42245.00 10003283.00 2190137.00 2948521.00 3309520.00 13792.00 609498.00]\n"
     ]
    }
   ],
   "source": [
    "# Consider this implementation going forward\n",
    "# https://medium.com/gumgum-tech/handling-class-imbalance-by-introducing-sample-weighting-in-the-loss-function-3bdebd8203b4\n",
    "def get_class_weights(data_path: Path, num_classes: int = 13) -> np.ndarray:\n",
    "    \"\"\"\n",
    "    Get the total count for each unique label and divide by the total number of instances.    \n",
    "    \"\"\"\n",
    "    files = list(data_path.glob(\"*_sample.ply\"))\n",
    "    _, _, labels = read_ply_file(files[0])\n",
    "    num_points = 0\n",
    "    total_counts = np.zeros(num_classes)\n",
    "    for file in files:\n",
    "        _, _, labels = read_ply_file(file)\n",
    "        num_points += labels.shape[0]\n",
    "        counts = np.unique(labels, return_counts=True)\n",
    "        for i in range(len(counts[0])):\n",
    "            total_counts[counts[0][i]] += counts[1][i]\n",
    "\n",
    "    print(f\"Total value for counts: {total_counts}\")\n",
    "    \n",
    "    return (1 - (total_counts / num_points))\n",
    "\n",
    "class_weights = get_class_weights(DATA_PATH / \"sensat_urban/grid_0.2\")\n",
    "\n",
    "\n",
    "def get_sample_weights(num_classes: int, samples_per_cls, exp: float = 1.0):\n",
    "    weights_for_samples = 1.0 / np.array(np.power(samples_per_cls, exp))\n",
    "    weights_for_samples = weights_for_samples / np.sum(weights_for_samples) * num_classes\n",
    "    \n",
    "    return weights_for_samples"
   ]
  },
  {
   "cell_type": "code",
   "execution_count": 38,
   "metadata": {},
   "outputs": [
    {
     "data": {
      "text/plain": [
       "array([0.64, 0.80, 0.67, 0.99, 1.00, 0.98, 1.00, 0.95, 0.99, 0.99, 0.98,\n",
       "       1.00, 1.00])"
      ]
     },
     "execution_count": 38,
     "metadata": {},
     "output_type": "execute_result"
    }
   ],
   "source": [
    "class_weights"
   ]
  },
  {
   "cell_type": "code",
   "execution_count": null,
   "metadata": {},
   "outputs": [],
   "source": [
    "# Path to pointcloud file that has not been sub-sampled\n",
    "pointcloud_path = Path(\n",
    "    \"/home/macdonaldezra/Desktop/code/grid_0.200/birmingham_block_11.ply\"\n",
    ")\n",
    "assert pointcloud_path.exists(), \"PointCloud file not found.\""
   ]
  },
  {
   "cell_type": "code",
   "execution_count": null,
   "metadata": {},
   "outputs": [],
   "source": [
    "points, colors, labels = read_ply_file(pointcloud_path)"
   ]
  },
  {
   "cell_type": "code",
   "execution_count": null,
   "metadata": {},
   "outputs": [],
   "source": [
    "draw_pointcloud(points, colors)"
   ]
  },
  {
   "cell_type": "code",
   "execution_count": null,
   "metadata": {},
   "outputs": [],
   "source": [
    "_ = draw_segmented_pointcloud(points, labels)"
   ]
  },
  {
   "cell_type": "code",
   "execution_count": null,
   "metadata": {},
   "outputs": [],
   "source": [
    "def shuffle_indices(arr: np.ndarray) -> np.ndarray:\n",
    "    \"\"\"\n",
    "    Randomly shuffle an input array's indices and returned array with shuffled index.\n",
    "    \"\"\"\n",
    "    indices = np.arange(len(arr))\n",
    "    np.random.shuffle(indices)\n",
    "\n",
    "    return arr[indices]\n",
    "\n",
    "\n",
    "def compute_distances(arr: np.ndarray, point: float) -> np.ndarray:\n",
    "    \"\"\"\n",
    "    Return the absolute normalized distance between a set of points and a given point.\n",
    "    \"\"\"\n",
    "    distances = np.sum((np.square(arr - point)).astype(np.float32), axis=-1)\n",
    "    return np.square((1 - distances) / np.max(distances))\n",
    "\n",
    "\n",
    "def resize_pointcloud_inputs(\n",
    "    points: np.ndarray,\n",
    "    colors: np.ndarray,\n",
    "    labels: np.ndarray,\n",
    "    indices: np.ndarray,\n",
    "    size: int,\n",
    ") -> List[np.ndarray]:\n",
    "    \"\"\"\n",
    "    Resize PointCloud input array to match the size parameter.\n",
    "\n",
    "    This functionality was taken from the original Sensat implementation and has been created to better understand,\n",
    "    how their research team is modifying input data\n",
    "    \"\"\"\n",
    "    num_inputs = len(points)\n",
    "    duplicate = np.random.choice(num_inputs, size - num_inputs)\n",
    "    point_duplicates = points[duplicate, ...]\n",
    "    points_resized = np.concatenate([points, point_duplicates], 0)\n",
    "\n",
    "    color_duplicates = colors[duplicate, ...]\n",
    "    colors_resized = np.concatenate([colors, color_duplicates], 0)\n",
    "\n",
    "    duplicate_indices = list(range(size)) + list(duplicate)\n",
    "    resize_index = indices[duplicate_indices]\n",
    "    label_duplicates = labels[duplicate, ...]\n",
    "    labels_resized = np.concatenate([labels, label_duplicates], 0)\n",
    "\n",
    "    return [points_resized, colors_resized, labels_resized, resize_index]"
   ]
  },
  {
   "cell_type": "code",
   "execution_count": null,
   "metadata": {},
   "outputs": [],
   "source": [
    "MODEL_INPUT_SIZE = 40960\n",
    "# How Sensat repos handle generating a training batch for a model\n",
    "\n",
    "possibility = np.random.rand(tree.data.shape[0]) * 1e-3\n",
    "min_possibility = float(np.min(possibility))\n",
    "\n",
    "# Choose the point with the minimum of possibility as query points\n",
    "point_index = np.argmin(possibility)\n",
    "# Get points from the tree structure\n",
    "points = np.array(tree.data, copy=False)\n",
    "center_point = points[point_index, :].reshape(1, -1)\n",
    "\n",
    "# Add noise to the center point\n",
    "noise = np.random.normal(scale=3.5 / 10, size=center_point.shape)\n",
    "chosen_point = center_point + noise.astype(center_point.dtype)\n",
    "\n",
    "# If PointCloud is smaller than model input size, then\n",
    "if len(points) < MODEL_INPUT_SIZE:  # Chosen number of points\n",
    "    queried_index = tree.query(chosen_point, k=len(points))[1][0]\n",
    "else:\n",
    "    queried_index = tree.query(chosen_point, k=MODEL_INPUT_SIZE)[1][0]\n",
    "\n",
    "queried_index = shuffle_indices(queried_index)\n",
    "queried_points = points[queried_index]\n",
    "queried_points -= chosen_point\n",
    "queried_colors = colors[queried_index]\n",
    "queried_labels = labels[queried_index]\n",
    "\n",
    "# possibility[queried_index] += compute_distances(queried_points, chosen_point)\n",
    "# min_possibility = float(np.min(possibility))\n",
    "\n",
    "if len(points) < MODEL_INPUT_SIZE:\n",
    "    (\n",
    "        queried_points,\n",
    "        queried_colors,\n",
    "        queried_labels,\n",
    "        queried_index,\n",
    "    ) = resize_pointcloud_inputs(\n",
    "        queried_points, queried_colors, queried_labels, queried_index, MODEL_INPUT_SIZE\n",
    "    )"
   ]
  },
  {
   "cell_type": "code",
   "execution_count": null,
   "metadata": {},
   "outputs": [],
   "source": [
    "draw_pointcloud(queried_points, queried_colors)"
   ]
  },
  {
   "cell_type": "code",
   "execution_count": null,
   "metadata": {},
   "outputs": [],
   "source": [
    "_ = draw_segmented_pointcloud(queried_points, queried_labels)"
   ]
  },
  {
   "cell_type": "code",
   "execution_count": null,
   "metadata": {},
   "outputs": [],
   "source": [
    "np.min(possibility)"
   ]
  },
  {
   "cell_type": "code",
   "execution_count": null,
   "metadata": {},
   "outputs": [],
   "source": [
    "np.max(possibility)"
   ]
  },
  {
   "cell_type": "code",
   "execution_count": null,
   "metadata": {},
   "outputs": [],
   "source": []
  },
  {
   "cell_type": "code",
   "execution_count": null,
   "metadata": {},
   "outputs": [],
   "source": [
    "min_possibility"
   ]
  }
 ],
 "metadata": {
  "kernelspec": {
   "display_name": "Python 3.9.13 64-bit ('pointcloud-dl-env')",
   "language": "python",
   "name": "python3"
  },
  "language_info": {
   "codemirror_mode": {
    "name": "ipython",
    "version": 3
   },
   "file_extension": ".py",
   "mimetype": "text/x-python",
   "name": "python",
   "nbconvert_exporter": "python",
   "pygments_lexer": "ipython3",
   "version": "3.9.13"
  },
  "orig_nbformat": 4,
  "vscode": {
   "interpreter": {
    "hash": "32fd5f39ba36bdb2b09eb0e971237c03ead3a6e53488ffa8a8a3671ebc5bcc03"
   }
  }
 },
 "nbformat": 4,
 "nbformat_minor": 2
}
