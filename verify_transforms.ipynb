{
 "cells": [
  {
   "cell_type": "code",
   "execution_count": 1,
   "metadata": {},
   "outputs": [
    {
     "name": "stdout",
     "output_type": "stream",
     "text": [
      "Jupyter environment detected. Enabling Open3D WebVisualizer.\n",
      "[Open3D INFO] WebRTC GUI backend enabled.\n",
      "[Open3D INFO] WebRTCWindowSystem: HTTP handshake server disabled.\n"
     ]
    }
   ],
   "source": [
    "from pathlib import Path\n",
    "from typing import *\n",
    "\n",
    "import open3d as o3\n",
    "import numpy as np\n",
    "\n",
    "from pointcloud.config import DATA_PATH\n",
    "from pointcloud.utils.io import read_ply_file\n",
    "from pointcloud.utils.transforms import *\n",
    "from pointcloud.processors.sensat.plot import draw_pointcloud, draw_segmented_pointcloud\n",
    "\n",
    "\n",
    "# Path to pointcloud file that has been sub-sampled\n",
    "pointcloud_path = Path(\n",
    "    DATA_PATH / \"sensat_urban/grid_0.2/birmingham_block_11_sample.ply\"\n",
    ")\n",
    "assert pointcloud_path.exists(), \"PointCloud file not found.\""
   ]
  },
  {
   "cell_type": "code",
   "execution_count": 15,
   "metadata": {},
   "outputs": [],
   "source": [
    "points, colors, labels = read_ply_file(pointcloud_path)"
   ]
  },
  {
   "cell_type": "code",
   "execution_count": 20,
   "metadata": {},
   "outputs": [
    {
     "data": {
      "text/plain": [
       "138.85196"
      ]
     },
     "execution_count": 20,
     "metadata": {},
     "output_type": "execute_result"
    }
   ],
   "source": [
    "np.mean(colors)"
   ]
  },
  {
   "cell_type": "code",
   "execution_count": 19,
   "metadata": {},
   "outputs": [],
   "source": [
    "transform = ChromaticColorContrast()\n",
    "points, colors, labels = transform(points, colors, labels)\n",
    "draw_pointcloud(points, colors)"
   ]
  }
 ],
 "metadata": {
  "kernelspec": {
   "display_name": "Python 3.9.13 64-bit ('pointcloud-dl-env')",
   "language": "python",
   "name": "python3"
  },
  "language_info": {
   "codemirror_mode": {
    "name": "ipython",
    "version": 3
   },
   "file_extension": ".py",
   "mimetype": "text/x-python",
   "name": "python",
   "nbconvert_exporter": "python",
   "pygments_lexer": "ipython3",
   "version": "3.9.13"
  },
  "orig_nbformat": 4,
  "vscode": {
   "interpreter": {
    "hash": "32fd5f39ba36bdb2b09eb0e971237c03ead3a6e53488ffa8a8a3671ebc5bcc03"
   }
  }
 },
 "nbformat": 4,
 "nbformat_minor": 2
}
