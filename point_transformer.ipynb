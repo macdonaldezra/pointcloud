{
 "cells": [
  {
   "cell_type": "code",
   "execution_count": 2,
   "metadata": {},
   "outputs": [
    {
     "name": "stdout",
     "output_type": "stream",
     "text": [
      "Number of iterations required before (somewhat) evenly sampling all files: 11401\n"
     ]
    }
   ],
   "source": [
    "import torch\n",
    "\n",
    "from pointcloud.models.pointtransformer import pointtransformer_seg_repro as Model\n",
    "from pointcloud.processors.sensat.dataset import SensatDataSet\n",
    "from pointcloud.config import DATA_PATH\n",
    "\n",
    "\n",
    "SENSAT_PATH = DATA_PATH / \"sensat_urban/grid_0.2\"\n",
    "\n",
    "model = Model()\n",
    "\n",
    "dataset = SensatDataSet(data_partition=\"validate\", data_path=SENSAT_PATH)\n",
    "\n",
    "# Consider ensuring that the PyTorch dependencies have been installed correctly.\n",
    "# For more information, see here: https://pytorch.org/\n",
    "# assert torch.cuda.is_available() is True, \"You should have access to your GPU here.\""
   ]
  },
  {
   "cell_type": "code",
   "execution_count": 3,
   "metadata": {},
   "outputs": [],
   "source": [
    "points, colors, labels = dataset[1]\n",
    "assert type(points) == torch.Tensor, \"Not returning proper datatype for points\""
   ]
  }
 ],
 "metadata": {
  "kernelspec": {
   "display_name": "Python 3.9.13 64-bit ('pointcloud-dl-env')",
   "language": "python",
   "name": "python3"
  },
  "language_info": {
   "codemirror_mode": {
    "name": "ipython",
    "version": 3
   },
   "file_extension": ".py",
   "mimetype": "text/x-python",
   "name": "python",
   "nbconvert_exporter": "python",
   "pygments_lexer": "ipython3",
   "version": "3.9.13"
  },
  "orig_nbformat": 4,
  "vscode": {
   "interpreter": {
    "hash": "32fd5f39ba36bdb2b09eb0e971237c03ead3a6e53488ffa8a8a3671ebc5bcc03"
   }
  }
 },
 "nbformat": 4,
 "nbformat_minor": 2
}
