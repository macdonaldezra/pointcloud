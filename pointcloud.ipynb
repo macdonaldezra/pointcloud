{
 "cells": [
  {
   "cell_type": "code",
   "execution_count": null,
   "metadata": {},
   "outputs": [],
   "source": [
    "import random\n",
    "import numpy as np\n",
    "import matplotlib.pyplot as plt\n",
    "\n",
    "# Open3D Imports\n",
    "import open3d as o3\n",
    "\n",
    "from pointcloud.processors.shapenet.dataloader import ShapeNetDataLoader"
   ]
  },
  {
   "cell_type": "code",
   "execution_count": null,
   "metadata": {},
   "outputs": [],
   "source": [
    "CLASSES = {\n",
    "    \"Airplane\": 0,\n",
    "    \"Bag\": 1,\n",
    "    \"Cap\": 2,\n",
    "    \"Car\": 3,\n",
    "    \"Chair\": 4,\n",
    "    \"Earphone\": 5,\n",
    "    \"Guitar\": 6,\n",
    "    \"Knife\": 7,\n",
    "    \"Lamp\": 8,\n",
    "    \"Laptop\": 9,\n",
    "    \"Motorbike\": 10,\n",
    "    \"Mug\": 11,\n",
    "    \"Pistol\": 12,\n",
    "    \"Rocket\": 13,\n",
    "    \"Skateboard\": 14,\n",
    "    \"Table\": 15,\n",
    "}\n",
    "\n",
    "# A simple point cloud coloring mapping\n",
    "def read_pointnet_colors(seg_labels):\n",
    "    map_label_to_rgb = {\n",
    "        1: [0, 255, 0],\n",
    "        2: [0, 0, 255],\n",
    "        3: [255, 0, 0],\n",
    "        4: [255, 0, 255],  # purple\n",
    "        5: [0, 255, 255],  # cyan\n",
    "        6: [255, 255, 0],  # yellow\n",
    "    }\n",
    "    colors = np.array([map_label_to_rgb[label] for label in seg_labels])\n",
    "    return colors"
   ]
  },
  {
   "cell_type": "code",
   "execution_count": null,
   "metadata": {},
   "outputs": [],
   "source": [
    "dataset = ShapeNetDataLoader(image=True)\n",
    "print(\"Number of objects\", len(dataset))\n",
    "print(\"----------\")\n",
    "\n",
    "idx = random.randint(0, len(dataset))\n",
    "ps, seg, img = dataset[idx]\n",
    "\n",
    "print(\"Point Cloud Caracteristics:\")\n",
    "print(ps.size(), ps.type(), seg.size(), seg.type())\n",
    "print(\"----------\")\n",
    "print(\"Point Cloud\")\n",
    "print(ps)\n",
    "print(\"----------\")\n",
    "print(\"Label on Part Segmentation\")\n",
    "print(seg)\n",
    "print(\"----------\")\n",
    "\n",
    "# TODO: Get a Dataset for Classification with the same index and without the image\n",
    "dataset = ShapeNetDataLoader(classification=True)\n",
    "ps2, cls = dataset[idx]\n",
    "\n",
    "print(\"Label on Classification\")\n",
    "classes_dict_list = list(CLASSES)\n",
    "print(classes_dict_list[cls.item()])\n",
    "\n",
    "plt.imshow(np.asarray(img))"
   ]
  },
  {
   "cell_type": "code",
   "execution_count": null,
   "metadata": {},
   "outputs": [],
   "source": [
    "# o3.visualization.webrtc_server.enable_webrtc()\n",
    "\n",
    "test_cloud = o3.geometry.PointCloud()\n",
    "test_cloud.points = o3.utility.Vector3dVector(ps)\n",
    "test_cloud.colors = o3.utility.Vector3dVector(read_pointnet_colors(seg.numpy()))\n",
    "\n",
    "o3.visualization.draw_geometries([test_cloud])"
   ]
  }
 ],
 "metadata": {
  "kernelspec": {
   "display_name": "Python 3.9.13 64-bit ('pointcloud-dl-env')",
   "language": "python",
   "name": "python3"
  },
  "language_info": {
   "codemirror_mode": {
    "name": "ipython",
    "version": 3
   },
   "file_extension": ".py",
   "mimetype": "text/x-python",
   "name": "python",
   "nbconvert_exporter": "python",
   "pygments_lexer": "ipython3",
   "version": "3.9.13"
  },
  "orig_nbformat": 4,
  "vscode": {
   "interpreter": {
    "hash": "32fd5f39ba36bdb2b09eb0e971237c03ead3a6e53488ffa8a8a3671ebc5bcc03"
   }
  }
 },
 "nbformat": 4,
 "nbformat_minor": 2
}
